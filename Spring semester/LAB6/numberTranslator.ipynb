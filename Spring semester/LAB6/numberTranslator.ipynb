{
 "cells": [
  {
   "cell_type": "code",
   "execution_count": 20,
   "metadata": {},
   "outputs": [
    {
     "name": "stdout",
     "output_type": "stream",
     "text": [
      "Enter a 32-bit real number\n",
      "False\n",
      "0 10000000 10010001111010111000011 = 3.14\n"
     ]
    }
   ],
   "source": [
    "def toBASEint(num, base):\n",
    "    alpha = \"0123456789ABCDEFGHIJKLMNOPQRSTUVWXYZ\"\n",
    "    n = abs(num)\n",
    "    b = alpha[n % base] \n",
    "    while n >= base :\n",
    "        n = n // base\n",
    "        b += alpha[n % base] \n",
    "    return ('' if num >= 0 else '-') + b[::-1] \n",
    "    \n",
    "def toBaseFrac(frac, base, n = 10) :\n",
    "    alpha = \"0123456789ABCDEFGHIJKLMNOPQRSTUVWXYZ\"\n",
    "    b = ''\n",
    "    while n :\n",
    "        frac *= base\n",
    "        frac = round(frac,n)\n",
    "        b += str(int(frac))\n",
    "        frac -= int(frac)\n",
    "        n -= 1\n",
    "    return b\n",
    "\n",
    "def calc(num, inC, outC):\n",
    "    Number = num\n",
    "    Basein = inC\n",
    "    Baseout = outC\n",
    "    alpha = \"0123456789ABCDEFGHIJKLMNOPQRSTUVWXYZ\"\n",
    "    if '.' in Number :\n",
    "        num, frac = map(str,Number.split('.'))\n",
    "        num = int(num,Basein)\n",
    "        a = toBASEint(num,Baseout)\n",
    "        b = 0\n",
    "        k = Basein\n",
    "        for i in frac :\n",
    "            b += alpha.index(i) / k\n",
    "            k *= Basein\n",
    "        b = toBaseFrac(b, Baseout)\n",
    "        return(a+'.'+b)\n",
    "    else :\n",
    "        return(toBASEint(int(Number,Basein),Baseout))\n",
    "\n",
    "print('Enter a 32-bit real number')\n",
    "x = input()\n",
    "isNumberNegative = bool(int(x[0]))\n",
    "exponent = x[1:9]\n",
    "mantissa = '1.'\n",
    "mantissa += x[9::]\n",
    "mantissa = mantissa[0:mantissa.rindex('1')  + 1]\n",
    "y = x[0] + ' ' + x[1:9] + ' ' + x[9::]\n",
    "res = round(float(calc(mantissa, 2, 10)) * pow(2, int(calc(exponent, 2, 10)) - 127), 3)\n",
    "print('{} = {}'.format(y, -res if isNumberNegative else res))\n"
   ]
  }
 ],
 "metadata": {
  "interpreter": {
   "hash": "9f16791964ada78e8baa879d472d03307b2c4f56fb83db9ddba013732f2cadfa"
  },
  "kernelspec": {
   "display_name": "Python 3.9.7 64-bit ('base': conda)",
   "language": "python",
   "name": "python3"
  },
  "language_info": {
   "codemirror_mode": {
    "name": "ipython",
    "version": 3
   },
   "file_extension": ".py",
   "mimetype": "text/x-python",
   "name": "python",
   "nbconvert_exporter": "python",
   "pygments_lexer": "ipython3",
   "version": "3.9.7"
  },
  "orig_nbformat": 4
 },
 "nbformat": 4,
 "nbformat_minor": 2
}
